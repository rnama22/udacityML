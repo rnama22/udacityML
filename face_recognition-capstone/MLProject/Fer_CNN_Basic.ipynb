{
 "cells": [
  {
   "cell_type": "code",
   "execution_count": 1,
   "metadata": {},
   "outputs": [
    {
     "name": "stderr",
     "output_type": "stream",
     "text": [
      "Using TensorFlow backend.\n"
     ]
    }
   ],
   "source": [
    "import tarfile\n",
    "import pandas as pd\n",
    "import numpy as np\n",
    "import matplotlib.pyplot as plt\n",
    "from keras.models import Sequential, Model, model_from_json\n",
    "from keras.layers import Dense, Conv2D, Activation, MaxPool2D, Flatten, Dropout, BatchNormalization\n",
    "from keras.utils import np_utils\n",
    "from keras.callbacks import ModelCheckpoint\n",
    "\n",
    "%matplotlib inline"
   ]
  },
  {
   "cell_type": "code",
   "execution_count": 2,
   "metadata": {},
   "outputs": [
    {
     "data": {
      "text/html": [
       "<div>\n",
       "<style scoped>\n",
       "    .dataframe tbody tr th:only-of-type {\n",
       "        vertical-align: middle;\n",
       "    }\n",
       "\n",
       "    .dataframe tbody tr th {\n",
       "        vertical-align: top;\n",
       "    }\n",
       "\n",
       "    .dataframe thead th {\n",
       "        text-align: right;\n",
       "    }\n",
       "</style>\n",
       "<table border=\"1\" class=\"dataframe\">\n",
       "  <thead>\n",
       "    <tr style=\"text-align: right;\">\n",
       "      <th></th>\n",
       "      <th>emotion</th>\n",
       "      <th>pixels</th>\n",
       "      <th>Usage</th>\n",
       "    </tr>\n",
       "  </thead>\n",
       "  <tbody>\n",
       "    <tr>\n",
       "      <th>0</th>\n",
       "      <td>0</td>\n",
       "      <td>70 80 82 72 58 58 60 63 54 58 60 48 89 115 121...</td>\n",
       "      <td>Training</td>\n",
       "    </tr>\n",
       "    <tr>\n",
       "      <th>1</th>\n",
       "      <td>0</td>\n",
       "      <td>151 150 147 155 148 133 111 140 170 174 182 15...</td>\n",
       "      <td>Training</td>\n",
       "    </tr>\n",
       "    <tr>\n",
       "      <th>2</th>\n",
       "      <td>2</td>\n",
       "      <td>231 212 156 164 174 138 161 173 182 200 106 38...</td>\n",
       "      <td>Training</td>\n",
       "    </tr>\n",
       "    <tr>\n",
       "      <th>3</th>\n",
       "      <td>4</td>\n",
       "      <td>24 32 36 30 32 23 19 20 30 41 21 22 32 34 21 1...</td>\n",
       "      <td>Training</td>\n",
       "    </tr>\n",
       "    <tr>\n",
       "      <th>4</th>\n",
       "      <td>6</td>\n",
       "      <td>4 0 0 0 0 0 0 0 0 0 0 0 3 15 23 28 48 50 58 84...</td>\n",
       "      <td>Training</td>\n",
       "    </tr>\n",
       "  </tbody>\n",
       "</table>\n",
       "</div>"
      ],
      "text/plain": [
       "   emotion                                             pixels     Usage\n",
       "0        0  70 80 82 72 58 58 60 63 54 58 60 48 89 115 121...  Training\n",
       "1        0  151 150 147 155 148 133 111 140 170 174 182 15...  Training\n",
       "2        2  231 212 156 164 174 138 161 173 182 200 106 38...  Training\n",
       "3        4  24 32 36 30 32 23 19 20 30 41 21 22 32 34 21 1...  Training\n",
       "4        6  4 0 0 0 0 0 0 0 0 0 0 0 3 15 23 28 48 50 58 84...  Training"
      ]
     },
     "execution_count": 2,
     "metadata": {},
     "output_type": "execute_result"
    }
   ],
   "source": [
    "image_path= \"/Users/kcl759/Downloads/fer2013.csv\"\n",
    "df = pd.read_csv(image_path)\n",
    "df.head()"
   ]
  },
  {
   "cell_type": "code",
   "execution_count": 3,
   "metadata": {},
   "outputs": [
    {
     "data": {
      "text/plain": [
       "emotion    35887\n",
       "pixels     35887\n",
       "Usage      35887\n",
       "dtype: int64"
      ]
     },
     "execution_count": 3,
     "metadata": {},
     "output_type": "execute_result"
    }
   ],
   "source": [
    "df.count()"
   ]
  },
  {
   "cell_type": "code",
   "execution_count": 4,
   "metadata": {},
   "outputs": [
    {
     "data": {
      "text/plain": [
       "Training       28709\n",
       "PrivateTest     3589\n",
       "PublicTest      3589\n",
       "Name: Usage, dtype: int64"
      ]
     },
     "execution_count": 4,
     "metadata": {},
     "output_type": "execute_result"
    }
   ],
   "source": [
    "df[\"Usage\"].value_counts()"
   ]
  },
  {
   "cell_type": "code",
   "execution_count": 5,
   "metadata": {},
   "outputs": [
    {
     "data": {
      "text/plain": [
       "emotion    0\n",
       "pixels     0\n",
       "dtype: int64"
      ]
     },
     "execution_count": 5,
     "metadata": {},
     "output_type": "execute_result"
    }
   ],
   "source": [
    "train = df[[\"emotion\", \"pixels\"]][df[\"Usage\"] == \"Training\"]\n",
    "train.isnull().sum()"
   ]
  },
  {
   "cell_type": "code",
   "execution_count": 6,
   "metadata": {},
   "outputs": [
    {
     "data": {
      "text/plain": [
       "((28709, 2304), (28709,))"
      ]
     },
     "execution_count": 6,
     "metadata": {},
     "output_type": "execute_result"
    }
   ],
   "source": [
    "train['pixels'] = train['pixels'].apply(lambda im: np.fromstring(im, sep=' '))\n",
    "x_train = np.vstack(train['pixels'].values)\n",
    "y_train = np.array(train[\"emotion\"])\n",
    "x_train.shape, y_train.shape"
   ]
  },
  {
   "cell_type": "code",
   "execution_count": 7,
   "metadata": {},
   "outputs": [],
   "source": [
    "public_test_df = df[[\"emotion\", \"pixels\"]][df[\"Usage\"]==\"PublicTest\"]"
   ]
  },
  {
   "cell_type": "code",
   "execution_count": 8,
   "metadata": {},
   "outputs": [],
   "source": [
    "public_test_df[\"pixels\"] = public_test_df[\"pixels\"].apply(lambda im: np.fromstring(im, sep=' '))\n",
    "x_test = np.vstack(public_test_df[\"pixels\"].values)\n",
    "y_test = np.array(public_test_df[\"emotion\"])"
   ]
  },
  {
   "cell_type": "code",
   "execution_count": 9,
   "metadata": {},
   "outputs": [
    {
     "data": {
      "text/plain": [
       "((28709, 48, 48, 1), (3589, 48, 48, 1))"
      ]
     },
     "execution_count": 9,
     "metadata": {},
     "output_type": "execute_result"
    }
   ],
   "source": [
    "x_train = x_train.reshape(-1, 48, 48, 1)\n",
    "x_test = x_test.reshape(-1, 48, 48, 1)\n",
    "x_train.shape, x_test.shape"
   ]
  },
  {
   "cell_type": "code",
   "execution_count": 10,
   "metadata": {},
   "outputs": [
    {
     "data": {
      "text/plain": [
       "((28709, 7), (3589, 7))"
      ]
     },
     "execution_count": 10,
     "metadata": {},
     "output_type": "execute_result"
    }
   ],
   "source": [
    "y_train = np_utils.to_categorical(y_train)\n",
    "y_test = np_utils.to_categorical(y_test)\n",
    "y_train.shape, y_test.shape"
   ]
  },
  {
   "cell_type": "code",
   "execution_count": 14,
   "metadata": {},
   "outputs": [
    {
     "data": {
      "image/png": "[encoded data removed]",
      "text/plain": [
       "<Figure size 864x432 with 12 Axes>"
      ]
     },
     "metadata": {
      "needs_background": "light"
     },
     "output_type": "display_data"
    }
   ],
   "source": [
    "import seaborn as sns\n",
    "plt.figure(0, figsize=(12,6))\n",
    "for i in range(1, 13):\n",
    "    plt.subplot(3,4,i)\n",
    "    plt.imshow(x_train[i, :, :, 0], cmap=\"gray\")\n",
    "\n",
    "plt.tight_layout()\n",
    "plt.show()"
   ]
  },
  {
   "cell_type": "code",
   "execution_count": 11,
   "metadata": {},
   "outputs": [
    {
     "name": "stdout",
     "output_type": "stream",
     "text": [
      "WARNING:tensorflow:From /Library/Frameworks/Python.framework/Versions/3.7/lib/python3.7/site-packages/tensorflow/python/framework/op_def_library.py:263: colocate_with (from tensorflow.python.framework.ops) is deprecated and will be removed in a future version.\n",
      "Instructions for updating:\n",
      "Colocations handled automatically by placer.\n",
      "WARNING:tensorflow:From /Library/Frameworks/Python.framework/Versions/3.7/lib/python3.7/site-packages/keras/backend/tensorflow_backend.py:3445: calling dropout (from tensorflow.python.ops.nn_ops) with keep_prob is deprecated and will be removed in a future version.\n",
      "Instructions for updating:\n",
      "Please use `rate` instead of `keep_prob`. Rate should be set to `rate = 1 - keep_prob`.\n",
      "_________________________________________________________________\n",
      "Layer (type)                 Output Shape              Param #   \n",
      "=================================================================\n",
      "conv2d_1 (Conv2D)            (None, 46, 46, 32)        320       \n",
      "_________________________________________________________________\n",
      "batch_normalization_1 (Batch (None, 46, 46, 32)        128       \n",
      "_________________________________________________________________\n",
      "activation_1 (Activation)    (None, 46, 46, 32)        0         \n",
      "_________________________________________________________________\n",
      "conv2d_2 (Conv2D)            (None, 44, 44, 32)        9248      \n",
      "_________________________________________________________________\n",
      "batch_normalization_2 (Batch (None, 44, 44, 32)        128       \n",
      "_________________________________________________________________\n",
      "activation_2 (Activation)    (None, 44, 44, 32)        0         \n",
      "_________________________________________________________________\n",
      "max_pooling2d_1 (MaxPooling2 (None, 22, 22, 32)        0         \n",
      "_________________________________________________________________\n",
      "dropout_1 (Dropout)          (None, 22, 22, 32)        0         \n",
      "_________________________________________________________________\n",
      "conv2d_3 (Conv2D)            (None, 20, 20, 64)        18496     \n",
      "_________________________________________________________________\n",
      "batch_normalization_3 (Batch (None, 20, 20, 64)        256       \n",
      "_________________________________________________________________\n",
      "activation_3 (Activation)    (None, 20, 20, 64)        0         \n",
      "_________________________________________________________________\n",
      "conv2d_4 (Conv2D)            (None, 18, 18, 64)        36928     \n",
      "_________________________________________________________________\n",
      "batch_normalization_4 (Batch (None, 18, 18, 64)        256       \n",
      "_________________________________________________________________\n",
      "activation_4 (Activation)    (None, 18, 18, 64)        0         \n",
      "_________________________________________________________________\n",
      "max_pooling2d_2 (MaxPooling2 (None, 9, 9, 64)          0         \n",
      "_________________________________________________________________\n",
      "dropout_2 (Dropout)          (None, 9, 9, 64)          0         \n",
      "_________________________________________________________________\n",
      "flatten_1 (Flatten)          (None, 5184)              0         \n",
      "_________________________________________________________________\n",
      "dense_1 (Dense)              (None, 128)               663680    \n",
      "_________________________________________________________________\n",
      "batch_normalization_5 (Batch (None, 128)               512       \n",
      "_________________________________________________________________\n",
      "activation_5 (Activation)    (None, 128)               0         \n",
      "_________________________________________________________________\n",
      "dropout_3 (Dropout)          (None, 128)               0         \n",
      "_________________________________________________________________\n",
      "dense_2 (Dense)              (None, 7)                 903       \n",
      "_________________________________________________________________\n",
      "activation_6 (Activation)    (None, 7)                 0         \n",
      "=================================================================\n",
      "Total params: 730,855\n",
      "Trainable params: 730,215\n",
      "Non-trainable params: 640\n",
      "_________________________________________________________________\n"
     ]
    }
   ],
   "source": [
    "model = Sequential()\n",
    "\n",
    "model.add(Conv2D(32, 3, data_format=\"channels_last\", kernel_initializer=\"he_normal\", \n",
    "                 input_shape=(48, 48, 1)))\n",
    "model.add(BatchNormalization())\n",
    "model.add(Activation(\"relu\"))\n",
    "\n",
    "model.add(Conv2D(32, 3))\n",
    "model.add(BatchNormalization())\n",
    "model.add(Activation(\"relu\"))\n",
    "model.add(MaxPool2D(pool_size=(2, 2), strides=2))\n",
    "model.add(Dropout(0.6))\n",
    "\n",
    "\n",
    "model.add(Conv2D(64, 3))\n",
    "model.add(BatchNormalization())\n",
    "model.add(Activation(\"relu\"))\n",
    "\n",
    "model.add(Conv2D(64, 3))\n",
    "model.add(BatchNormalization())\n",
    "model.add(Activation(\"relu\"))\n",
    "model.add(MaxPool2D(pool_size=(2, 2), strides=2))\n",
    "model.add(Dropout(0.6))\n",
    "\n",
    "model.add(Flatten())\n",
    "model.add(Dense(128))\n",
    "model.add(BatchNormalization())\n",
    "model.add(Activation(\"relu\"))\n",
    "model.add(Dropout(0.6))\n",
    "\n",
    "model.add(Dense(7))\n",
    "model.add(Activation('softmax'))\n",
    "\n",
    "model.compile(loss='categorical_crossentropy', optimizer='adam', metrics=['accuracy'])\n",
    "model.summary()"
   ]
  },
  {
   "cell_type": "code",
   "execution_count": 12,
   "metadata": {},
   "outputs": [
    {
     "name": "stdout",
     "output_type": "stream",
     "text": [
      "WARNING:tensorflow:From /Library/Frameworks/Python.framework/Versions/3.7/lib/python3.7/site-packages/tensorflow/python/ops/math_ops.py:3066: to_int32 (from tensorflow.python.ops.math_ops) is deprecated and will be removed in a future version.\n",
      "Instructions for updating:\n",
      "Use tf.cast instead.\n",
      "Train on 28709 samples, validate on 3589 samples\n",
      "Epoch 1/10\n",
      " - 252s - loss: 1.9266 - acc: 0.2804 - val_loss: 1.5892 - val_acc: 0.3951\n",
      "\n",
      "Epoch 00001: val_loss improved from inf to 1.58922, saving model to face_model.h5\n",
      "Epoch 2/10\n",
      " - 247s - loss: 1.6204 - acc: 0.3673 - val_loss: 1.5166 - val_acc: 0.4140\n",
      "\n",
      "Epoch 00002: val_loss improved from 1.58922 to 1.51662, saving model to face_model.h5\n",
      "Epoch 3/10\n",
      " - 252s - loss: 1.5213 - acc: 0.4106 - val_loss: 1.4726 - val_acc: 0.4241\n",
      "\n",
      "Epoch 00003: val_loss improved from 1.51662 to 1.47265, saving model to face_model.h5\n",
      "Epoch 4/10\n",
      " - 256s - loss: 1.4691 - acc: 0.4323 - val_loss: 1.3879 - val_acc: 0.4628\n",
      "\n",
      "Epoch 00004: val_loss improved from 1.47265 to 1.38787, saving model to face_model.h5\n",
      "Epoch 5/10\n",
      " - 267s - loss: 1.4147 - acc: 0.4519 - val_loss: 1.4191 - val_acc: 0.4525\n",
      "\n",
      "Epoch 00005: val_loss did not improve from 1.38787\n",
      "Epoch 6/10\n",
      " - 265s - loss: 1.3814 - acc: 0.4669 - val_loss: 1.3764 - val_acc: 0.4726\n",
      "\n",
      "Epoch 00006: val_loss improved from 1.38787 to 1.37644, saving model to face_model.h5\n",
      "Epoch 7/10\n",
      " - 262s - loss: 1.3515 - acc: 0.4804 - val_loss: 1.2623 - val_acc: 0.5127\n",
      "\n",
      "Epoch 00007: val_loss improved from 1.37644 to 1.26231, saving model to face_model.h5\n",
      "Epoch 8/10\n",
      " - 263s - loss: 1.3280 - acc: 0.4890 - val_loss: 1.2652 - val_acc: 0.5135\n",
      "\n",
      "Epoch 00008: val_loss did not improve from 1.26231\n",
      "Epoch 9/10\n",
      " - 254s - loss: 1.3071 - acc: 0.4999 - val_loss: 1.2051 - val_acc: 0.5375\n",
      "\n",
      "Epoch 00009: val_loss improved from 1.26231 to 1.20512, saving model to face_model.h5\n",
      "Epoch 10/10\n",
      " - 260s - loss: 1.2840 - acc: 0.5083 - val_loss: 1.2003 - val_acc: 0.5380\n",
      "\n",
      "Epoch 00010: val_loss improved from 1.20512 to 1.20032, saving model to face_model.h5\n"
     ]
    }
   ],
   "source": [
    "\n",
    "# save best weights\n",
    "checkpointer = ModelCheckpoint(filepath='face_model.h5', verbose=1, save_best_only=True)\n",
    "\n",
    "# num epochs\n",
    "epochs = 10\n",
    "\n",
    "# run model\n",
    "hist = model.fit(x_train, y_train, epochs=epochs,\n",
    "                 shuffle=True,\n",
    "                 batch_size=100, validation_data=(x_test, y_test),\n",
    "                 callbacks=[checkpointer], verbose=2)\n",
    "\n",
    "# save model to json\n",
    "model_json = model.to_json()\n",
    "with open(\"face_model.json\", \"w\") as json_file:\n",
    "    json_file.write(model_json)\n"
   ]
  },
  {
   "cell_type": "code",
   "execution_count": 13,
   "metadata": {},
   "outputs": [
    {
     "name": "stdout",
     "output_type": "stream",
     "text": [
      "Train on 28709 samples, validate on 3589 samples\n",
      "Epoch 1/30\n",
      " - 264s - loss: 1.2681 - acc: 0.5154 - val_loss: 1.2053 - val_acc: 0.5369\n",
      "\n",
      "Epoch 00001: val_loss improved from inf to 1.20530, saving model to face_model.h5\n",
      "Epoch 2/30\n",
      " - 260s - loss: 1.2616 - acc: 0.5163 - val_loss: 1.1882 - val_acc: 0.5433\n",
      "\n",
      "Epoch 00002: val_loss improved from 1.20530 to 1.18825, saving model to face_model.h5\n",
      "Epoch 3/30\n",
      " - 265s - loss: 1.2379 - acc: 0.5249 - val_loss: 1.1788 - val_acc: 0.5536\n",
      "\n",
      "Epoch 00003: val_loss improved from 1.18825 to 1.17878, saving model to face_model.h5\n",
      "Epoch 4/30\n",
      " - 261s - loss: 1.2215 - acc: 0.5311 - val_loss: 1.1859 - val_acc: 0.5450\n",
      "\n",
      "Epoch 00004: val_loss did not improve from 1.17878\n",
      "Epoch 5/30\n",
      " - 271s - loss: 1.2095 - acc: 0.5401 - val_loss: 1.1742 - val_acc: 0.5539\n",
      "\n",
      "Epoch 00005: val_loss improved from 1.17878 to 1.17417, saving model to face_model.h5\n",
      "Epoch 6/30\n",
      " - 270s - loss: 1.2003 - acc: 0.5428 - val_loss: 1.1559 - val_acc: 0.5556\n",
      "\n",
      "Epoch 00006: val_loss improved from 1.17417 to 1.15595, saving model to face_model.h5\n",
      "Epoch 7/30\n",
      " - 269s - loss: 1.1847 - acc: 0.5469 - val_loss: 1.1246 - val_acc: 0.5681\n",
      "\n",
      "Epoch 00007: val_loss improved from 1.15595 to 1.12457, saving model to face_model.h5\n",
      "Epoch 8/30\n",
      " - 270s - loss: 1.1769 - acc: 0.5506 - val_loss: 1.1179 - val_acc: 0.5776\n",
      "\n",
      "Epoch 00008: val_loss improved from 1.12457 to 1.11790, saving model to face_model.h5\n",
      "Epoch 9/30\n",
      " - 265s - loss: 1.1667 - acc: 0.5548 - val_loss: 1.1190 - val_acc: 0.5698\n",
      "\n",
      "Epoch 00009: val_loss did not improve from 1.11790\n",
      "Epoch 10/30\n",
      " - 267s - loss: 1.1585 - acc: 0.5587 - val_loss: 1.1278 - val_acc: 0.5673\n",
      "\n",
      "Epoch 00010: val_loss did not improve from 1.11790\n",
      "Epoch 11/30\n",
      " - 268s - loss: 1.1564 - acc: 0.5600 - val_loss: 1.1268 - val_acc: 0.5740\n",
      "\n",
      "Epoch 00011: val_loss did not improve from 1.11790\n",
      "Epoch 12/30\n",
      " - 270s - loss: 1.1483 - acc: 0.5669 - val_loss: 1.1038 - val_acc: 0.5723\n",
      "\n",
      "Epoch 00012: val_loss improved from 1.11790 to 1.10382, saving model to face_model.h5\n",
      "Epoch 13/30\n",
      " - 276s - loss: 1.1350 - acc: 0.5682 - val_loss: 1.1163 - val_acc: 0.5720\n",
      "\n",
      "Epoch 00013: val_loss did not improve from 1.10382\n",
      "Epoch 14/30\n",
      " - 281s - loss: 1.1242 - acc: 0.5768 - val_loss: 1.0997 - val_acc: 0.5798\n",
      "\n",
      "Epoch 00014: val_loss improved from 1.10382 to 1.09966, saving model to face_model.h5\n",
      "Epoch 15/30\n",
      " - 281s - loss: 1.1192 - acc: 0.5788 - val_loss: 1.0897 - val_acc: 0.5832\n",
      "\n",
      "Epoch 00015: val_loss improved from 1.09966 to 1.08969, saving model to face_model.h5\n",
      "Epoch 16/30\n",
      " - 281s - loss: 1.1150 - acc: 0.5801 - val_loss: 1.0947 - val_acc: 0.5815\n",
      "\n",
      "Epoch 00016: val_loss did not improve from 1.08969\n",
      "Epoch 17/30\n",
      " - 267s - loss: 1.1040 - acc: 0.5815 - val_loss: 1.1256 - val_acc: 0.5729\n",
      "\n",
      "Epoch 00017: val_loss did not improve from 1.08969\n",
      "Epoch 18/30\n",
      " - 284s - loss: 1.1031 - acc: 0.5805 - val_loss: 1.0908 - val_acc: 0.5826\n",
      "\n",
      "Epoch 00018: val_loss did not improve from 1.08969\n",
      "Epoch 19/30\n",
      " - 286s - loss: 1.0942 - acc: 0.5845 - val_loss: 1.0723 - val_acc: 0.5893\n",
      "\n",
      "Epoch 00019: val_loss improved from 1.08969 to 1.07233, saving model to face_model.h5\n",
      "Epoch 20/30\n",
      " - 265s - loss: 1.0917 - acc: 0.5853 - val_loss: 1.0735 - val_acc: 0.5913\n",
      "\n",
      "Epoch 00020: val_loss did not improve from 1.07233\n",
      "Epoch 21/30\n",
      " - 267s - loss: 1.0835 - acc: 0.5879 - val_loss: 1.0939 - val_acc: 0.5840\n",
      "\n",
      "Epoch 00021: val_loss did not improve from 1.07233\n",
      "Epoch 22/30\n",
      " - 265s - loss: 1.0844 - acc: 0.5908 - val_loss: 1.0736 - val_acc: 0.5899\n",
      "\n",
      "Epoch 00022: val_loss did not improve from 1.07233\n",
      "Epoch 23/30\n",
      " - 266s - loss: 1.0737 - acc: 0.5938 - val_loss: 1.1006 - val_acc: 0.5823\n",
      "\n",
      "Epoch 00023: val_loss did not improve from 1.07233\n",
      "Epoch 24/30\n",
      " - 275s - loss: 1.0704 - acc: 0.5954 - val_loss: 1.0733 - val_acc: 0.5876\n",
      "\n",
      "Epoch 00024: val_loss did not improve from 1.07233\n",
      "Epoch 25/30\n",
      " - 261s - loss: 1.0568 - acc: 0.6004 - val_loss: 1.0507 - val_acc: 0.6030\n",
      "\n",
      "Epoch 00025: val_loss improved from 1.07233 to 1.05066, saving model to face_model.h5\n",
      "Epoch 26/30\n",
      " - 258s - loss: 1.0592 - acc: 0.5962 - val_loss: 1.0732 - val_acc: 0.5901\n",
      "\n",
      "Epoch 00026: val_loss did not improve from 1.05066\n",
      "Epoch 27/30\n",
      " - 275s - loss: 1.0566 - acc: 0.5989 - val_loss: 1.0670 - val_acc: 0.5979\n",
      "\n",
      "Epoch 00027: val_loss did not improve from 1.05066\n",
      "Epoch 28/30\n",
      " - 273s - loss: 1.0507 - acc: 0.6018 - val_loss: 1.0564 - val_acc: 0.5991\n",
      "\n",
      "Epoch 00028: val_loss did not improve from 1.05066\n",
      "Epoch 29/30\n",
      " - 269s - loss: 1.0429 - acc: 0.6055 - val_loss: 1.0721 - val_acc: 0.5971\n",
      "\n",
      "Epoch 00029: val_loss did not improve from 1.05066\n",
      "Epoch 30/30\n",
      " - 268s - loss: 1.0402 - acc: 0.6051 - val_loss: 1.0676 - val_acc: 0.5977\n",
      "\n",
      "Epoch 00030: val_loss did not improve from 1.05066\n"
     ]
    }
   ],
   "source": [
    "\n",
    "# save best weights\n",
    "checkpointer = ModelCheckpoint(filepath='face_model.h5', verbose=1, save_best_only=True)\n",
    "\n",
    "# num epochs\n",
    "epochs = 30\n",
    "\n",
    "# run model\n",
    "hist = model.fit(x_train, y_train, epochs=epochs,\n",
    "                 shuffle=True,\n",
    "                 batch_size=100, validation_data=(x_test, y_test),\n",
    "                 callbacks=[checkpointer], verbose=2)\n",
    "\n",
    "# save model to json\n",
    "model_json = model.to_json()\n",
    "with open(\"face_model.json\", \"w\") as json_file:\n",
    "    json_file.write(model_json)"
   ]
  },
  {
   "cell_type": "code",
   "execution_count": null,
   "metadata": {},
   "outputs": [],
   "source": []
  }
 ],
 "metadata": {
  "kernelspec": {
   "display_name": "Python 3",
   "language": "python",
   "name": "python3"
  },
  "language_info": {
   "codemirror_mode": {
    "name": "ipython",
    "version": 3
   },
   "file_extension": ".py",
   "mimetype": "text/x-python",
   "name": "python",
   "nbconvert_exporter": "python",
   "pygments_lexer": "ipython3",
   "version": "3.7.1"
  }
 },
 "nbformat": 4,
 "nbformat_minor": 2
}
